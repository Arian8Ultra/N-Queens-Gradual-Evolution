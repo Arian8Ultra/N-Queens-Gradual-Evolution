{
 "cells": [
  {
   "cell_type": "code",
   "execution_count": 1,
   "metadata": {},
   "outputs": [
    {
     "name": "stdout",
     "output_type": "stream",
     "text": [
      "Solution for the 8-Queens problem:\n",
      "Q . . . . . . .\n",
      ". . . . . . Q .\n",
      ". . . Q . . . .\n",
      ". . . . . Q . .\n",
      ". . . . . . . Q\n",
      ". Q . . . . . .\n",
      ". . . . Q . . .\n",
      ". . Q . . . . .\n",
      "\n"
     ]
    }
   ],
   "source": [
    "import random\n",
    "\n",
    "def generate_random_solution(n):\n",
    "    solution = list(range(n))\n",
    "    random.shuffle(solution)\n",
    "    return solution\n",
    "\n",
    "def calculate_conflicts(solution):\n",
    "    n = len(solution)\n",
    "    conflicts = 0\n",
    "    for i in range(n):\n",
    "        for j in range(i+1, n):\n",
    "            if solution[i] == solution[j] or abs(solution[i] - solution[j]) == j - i:\n",
    "                conflicts += 1\n",
    "    return conflicts\n",
    "\n",
    "def evolve_population(population, elite_size):\n",
    "    graded = [(calculate_conflicts(solution), solution) for solution in population]\n",
    "    graded = sorted(graded)\n",
    "    elite = [solution for _, solution in graded[:elite_size]]\n",
    "    selection_results = [solution for _, solution in graded]\n",
    "    \n",
    "    offspring = elite\n",
    "    \n",
    "    while len(offspring) < len(population):\n",
    "        parent1, parent2 = random.choices(selection_results, k=2)\n",
    "        crossover_point = random.randint(0, len(parent1)-1)\n",
    "        child = parent1[:crossover_point] + parent2[crossover_point:]\n",
    "        offspring.append(mutate(child))\n",
    "    \n",
    "    return offspring\n",
    "\n",
    "def mutate(solution):\n",
    "    n = len(solution)\n",
    "    mutated_solution = list(solution)\n",
    "    idx1, idx2 = random.sample(range(n), 2)\n",
    "    mutated_solution[idx1], mutated_solution[idx2] = mutated_solution[idx2], mutated_solution[idx1]\n",
    "    return mutated_solution\n",
    "\n",
    "def display_solution(solution):\n",
    "    n = len(solution)\n",
    "    for i in range(n):\n",
    "        row = ['Q' if j == solution[i] else '.' for j in range(n)]\n",
    "        print(' '.join(row))\n",
    "    print()\n",
    "\n",
    "def solve_n_queens(n, population_size, elite_size, generations):\n",
    "    population = [generate_random_solution(n) for _ in range(population_size)]\n",
    "    for _ in range(generations):\n",
    "        population = evolve_population(population, elite_size)\n",
    "    \n",
    "    best_solution = min(population, key=calculate_conflicts)\n",
    "    return best_solution\n",
    "\n",
    "# Get the value of n from the user\n",
    "n = int(input(\"Enter the number of queens (n): \"))\n",
    "\n",
    "population_size = 100\n",
    "elite_size = 20\n",
    "generations = 1000\n",
    "\n",
    "solution = solve_n_queens(n, population_size, elite_size, generations)\n",
    "print(f\"Solution for the {n}-Queens problem:\")\n",
    "display_solution(solution)\n"
   ]
  }
 ],
 "metadata": {
  "kernelspec": {
   "display_name": "Python 3",
   "language": "python",
   "name": "python3"
  },
  "language_info": {
   "codemirror_mode": {
    "name": "ipython",
    "version": 3
   },
   "file_extension": ".py",
   "mimetype": "text/x-python",
   "name": "python",
   "nbconvert_exporter": "python",
   "pygments_lexer": "ipython3",
   "version": "3.9.13"
  },
  "orig_nbformat": 4
 },
 "nbformat": 4,
 "nbformat_minor": 2
}
